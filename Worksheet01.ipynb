{
  "nbformat": 4,
  "nbformat_minor": 0,
  "metadata": {
    "colab": {
      "provenance": []
    },
    "kernelspec": {
      "name": "python3",
      "display_name": "Python 3"
    },
    "language_info": {
      "name": "python"
    }
  },
  "cells": [
    {
      "cell_type": "markdown",
      "source": [
        "1. Initialize an empty array with size 2X2."
      ],
      "metadata": {
        "id": "PchTGt0NwDSh"
      }
    },
    {
      "cell_type": "code",
      "source": [
        "import numpy as np\n",
        "array = np.empty((2,2))\n",
        "print(array)"
      ],
      "metadata": {
        "colab": {
          "base_uri": "https://localhost:8080/"
        },
        "id": "UekElF46wE0X",
        "outputId": "be1faf1f-9536-4727-cdd5-a6ab95571527"
      },
      "execution_count": null,
      "outputs": [
        {
          "output_type": "stream",
          "name": "stdout",
          "text": [
            "[[6.92458792e-310 0.00000000e+000]\n",
            " [5.02557535e-091 5.10872151e-066]]\n"
          ]
        }
      ]
    },
    {
      "cell_type": "markdown",
      "source": [
        "2. Initialize an all one array with size 4X2."
      ],
      "metadata": {
        "id": "qKg9UAQfwvAh"
      }
    },
    {
      "cell_type": "code",
      "source": [
        "import numpy as np\n",
        "ones_array = np.empty((4,2))\n",
        "print(ones_array)"
      ],
      "metadata": {
        "colab": {
          "base_uri": "https://localhost:8080/"
        },
        "id": "e_FkFDdIwzQP",
        "outputId": "9c6425dd-204f-463c-a263-5b0f1accebb0"
      },
      "execution_count": null,
      "outputs": [
        {
          "output_type": "stream",
          "name": "stdout",
          "text": [
            "[[4.80182333e-310 0.00000000e+000]\n",
            " [0.00000000e+000 0.00000000e+000]\n",
            " [0.00000000e+000 0.00000000e+000]\n",
            " [0.00000000e+000 0.00000000e+000]]\n"
          ]
        }
      ]
    },
    {
      "cell_type": "markdown",
      "source": [
        "3Return a new array of given shape and type, filled with fill value.{Hint: np.full}"
      ],
      "metadata": {
        "id": "UdgYGXe5xSHV"
      }
    },
    {
      "cell_type": "code",
      "source": [
        "import numpy as np\n",
        "fill_value = 7\n",
        "array = np.full((3,3), fill_value)\n",
        "print(array)\n"
      ],
      "metadata": {
        "colab": {
          "base_uri": "https://localhost:8080/"
        },
        "id": "Qq4TK6CyxTlp",
        "outputId": "3f94089f-4911-4206-82c9-6cfb8860213f"
      },
      "execution_count": null,
      "outputs": [
        {
          "output_type": "stream",
          "name": "stdout",
          "text": [
            "[[7 7 7]\n",
            " [7 7 7]\n",
            " [7 7 7]]\n"
          ]
        }
      ]
    },
    {
      "cell_type": "markdown",
      "source": [
        "4. Return a new array of zeros with same shape and type as a given array.{Hint: np.zeros like}"
      ],
      "metadata": {
        "id": "2vaELrk7yue_"
      }
    },
    {
      "cell_type": "code",
      "source": [
        "import numpy as np\n",
        "given_array = np.array([[4, 6], [2, 3]], dtype=np.int32)\n",
        "zeros_array = np.zeros_like(given_array)\n",
        "print(\"Given array:\")\n",
        "print(given_array)\n",
        "print(\"\\nNew array of zeros:\")\n",
        "print(zeros_array)\n"
      ],
      "metadata": {
        "colab": {
          "base_uri": "https://localhost:8080/"
        },
        "id": "FGkP7EcSzJZh",
        "outputId": "1b60eeeb-5fc6-40a4-b4f9-fb11f0ba535e"
      },
      "execution_count": null,
      "outputs": [
        {
          "output_type": "stream",
          "name": "stdout",
          "text": [
            "Given array:\n",
            "[[4 6]\n",
            " [2 3]]\n",
            "\n",
            "New array of zeros:\n",
            "[[0 0]\n",
            " [0 0]]\n"
          ]
        }
      ]
    },
    {
      "cell_type": "markdown",
      "source": [
        "5. Return a new array of ones with same shape and type as a given array.{Hint: np.ones like}"
      ],
      "metadata": {
        "id": "jMcJdcl10lZy"
      }
    },
    {
      "cell_type": "code",
      "source": [
        "import numpy as np\n",
        "given_array = np.array([[4, 9], [5, 10]], dtype=np.float64)\n",
        "ones_array = np.ones_like(given_array)\n",
        "print(\"Given array:\")\n",
        "print(given_array)\n",
        "print(\"\\nNew array of ones:\")\n",
        "print(ones_array)\n",
        "\n",
        "\n"
      ],
      "metadata": {
        "colab": {
          "base_uri": "https://localhost:8080/"
        },
        "id": "A5dUogBS0wbL",
        "outputId": "78e27465-86fb-4802-e899-faaa89e51fa3"
      },
      "execution_count": null,
      "outputs": [
        {
          "output_type": "stream",
          "name": "stdout",
          "text": [
            "Given array:\n",
            "[[ 4.  9.]\n",
            " [ 5. 10.]]\n",
            "\n",
            "New array of ones:\n",
            "[[1. 1.]\n",
            " [1. 1.]]\n"
          ]
        }
      ]
    },
    {
      "cell_type": "markdown",
      "source": [
        "6. For an existing list new_list = [1,2,3,4] convert to an numpy array.{Hint: np.array()}"
      ],
      "metadata": {
        "id": "ubYcokgQ3Uw3"
      }
    },
    {
      "cell_type": "code",
      "source": [
        "import numpy as np\n",
        "new_list = [1,2,3,4]\n",
        "numpy_array = np.array(new_list)\n",
        "print(numpy_array)\n"
      ],
      "metadata": {
        "colab": {
          "base_uri": "https://localhost:8080/"
        },
        "id": "neZ83Rva3cOp",
        "outputId": "5809cab8-c5f9-4f99-f975-088e34ff2789"
      },
      "execution_count": null,
      "outputs": [
        {
          "output_type": "stream",
          "name": "stdout",
          "text": [
            "[1 2 3 4]\n"
          ]
        }
      ]
    },
    {
      "cell_type": "markdown",
      "source": [
        "4.1.1 Create an array with values ranging from 10 to 49. {Hint:np.arrange()}."
      ],
      "metadata": {
        "id": "sQxQtqC657RC"
      }
    },
    {
      "cell_type": "code",
      "source": [
        "import numpy as np\n",
        "array1 = np.arange(10,50)\n",
        "print(array1)"
      ],
      "metadata": {
        "id": "pQLjUNzR6EzP",
        "colab": {
          "base_uri": "https://localhost:8080/"
        },
        "outputId": "64a871c3-98a8-4c27-e709-fc8014998f9b"
      },
      "execution_count": 1,
      "outputs": [
        {
          "output_type": "stream",
          "name": "stdout",
          "text": [
            "[10 11 12 13 14 15 16 17 18 19 20 21 22 23 24 25 26 27 28 29 30 31 32 33\n",
            " 34 35 36 37 38 39 40 41 42 43 44 45 46 47 48 49]\n"
          ]
        }
      ]
    },
    {
      "cell_type": "markdown",
      "source": [
        "4.1.2 Create a 3X3 matrix with values ranging from 0 to 8."
      ],
      "metadata": {
        "id": "vy7SwXe7LCav"
      }
    },
    {
      "cell_type": "code",
      "source": [
        "import numpy as np\n",
        "array = np.arange(9) .reshape(3,3)\n",
        "print(array)"
      ],
      "metadata": {
        "colab": {
          "base_uri": "https://localhost:8080/"
        },
        "id": "A0NUFnwnLIER",
        "outputId": "28d0eae7-56b6-4900-dab0-95282309f4ea"
      },
      "execution_count": 2,
      "outputs": [
        {
          "output_type": "stream",
          "name": "stdout",
          "text": [
            "[[0 1 2]\n",
            " [3 4 5]\n",
            " [6 7 8]]\n"
          ]
        }
      ]
    },
    {
      "cell_type": "markdown",
      "source": [
        "# 3. Create a 3X3 identity matrix.{Hint:np.eye()}"
      ],
      "metadata": {
        "id": "cVR9eFPoLSm1"
      }
    },
    {
      "cell_type": "code",
      "source": [
        "import numpy as np\n",
        "array = np.eye(3)\n",
        "print(array)"
      ],
      "metadata": {
        "colab": {
          "base_uri": "https://localhost:8080/"
        },
        "id": "9GlUH6oXLVQ0",
        "outputId": "bf8590c7-99d7-4d07-f40f-d15ac5397881"
      },
      "execution_count": 3,
      "outputs": [
        {
          "output_type": "stream",
          "name": "stdout",
          "text": [
            "[[1. 0. 0.]\n",
            " [0. 1. 0.]\n",
            " [0. 0. 1.]]\n"
          ]
        }
      ]
    },
    {
      "cell_type": "markdown",
      "source": [
        "# 4. Create a random array of size 30 and find the mean of the array.{Hint:check for np.random.random() and array.mean() function}"
      ],
      "metadata": {
        "id": "tuKrXeFDLaBy"
      }
    },
    {
      "cell_type": "code",
      "source": [
        "import numpy as np\n",
        "array = np.random.random(50)\n",
        "mean = array.mean()\n",
        "print(mean)"
      ],
      "metadata": {
        "colab": {
          "base_uri": "https://localhost:8080/"
        },
        "id": "TDrtlNphLdBM",
        "outputId": "2be74dcb-5d0c-460b-d59c-8cf8f9823b7d"
      },
      "execution_count": 4,
      "outputs": [
        {
          "output_type": "stream",
          "name": "stdout",
          "text": [
            "0.48181120920174325\n"
          ]
        }
      ]
    },
    {
      "cell_type": "markdown",
      "source": [
        "# 5. Create a 10X10 array with random values and find the minimum and maximum values."
      ],
      "metadata": {
        "id": "b-5MUD6LLjpg"
      }
    },
    {
      "cell_type": "code",
      "source": [
        "import numpy as np\n",
        "array = np.random.random((10,10))\n",
        "min_value = array.min()\n",
        "max_value = array.max()\n",
        "print(min_value)\n",
        "print(max_value)"
      ],
      "metadata": {
        "colab": {
          "base_uri": "https://localhost:8080/"
        },
        "id": "BmCyYVWHLlrV",
        "outputId": "f18f945c-5a03-4ffb-930a-daded9e23a07"
      },
      "execution_count": 5,
      "outputs": [
        {
          "output_type": "stream",
          "name": "stdout",
          "text": [
            "0.009475196574187827\n",
            "0.9980549626000735\n"
          ]
        }
      ]
    },
    {
      "cell_type": "markdown",
      "source": [
        "# 6. Create a zero array of size 10 and replace 5th element with 1."
      ],
      "metadata": {
        "id": "hyvI_92OLpFx"
      }
    },
    {
      "cell_type": "code",
      "source": [
        "import numpy as np\n",
        "array = np.zeros(10)\n",
        "array[4] = 1\n",
        "print(array)"
      ],
      "metadata": {
        "colab": {
          "base_uri": "https://localhost:8080/"
        },
        "id": "TRIa61cLLsCS",
        "outputId": "a79bfc7c-269d-48a2-f84c-8fb28aeb7a5c"
      },
      "execution_count": 8,
      "outputs": [
        {
          "output_type": "stream",
          "name": "stdout",
          "text": [
            "[0. 0. 0. 0. 1. 0. 0. 0. 0. 0.]\n"
          ]
        }
      ]
    },
    {
      "cell_type": "markdown",
      "source": [
        "# 7. Reverse an array arr = [1,2,0,0,4,0]"
      ],
      "metadata": {
        "id": "JKTpF2kFL0PK"
      }
    },
    {
      "cell_type": "code",
      "source": [
        "import numpy as np\n",
        "arr = np.array([1,2,0,0,4,0])\n",
        "reversed_arr = arr[::-1]\n",
        "print(reversed_arr)"
      ],
      "metadata": {
        "colab": {
          "base_uri": "https://localhost:8080/"
        },
        "id": "367gURspL4P5",
        "outputId": "ef6b731f-2d8f-4867-e5bd-be12ede7c6be"
      },
      "execution_count": 9,
      "outputs": [
        {
          "output_type": "stream",
          "name": "stdout",
          "text": [
            "[0 4 0 0 2 1]\n"
          ]
        }
      ]
    },
    {
      "cell_type": "markdown",
      "source": [
        "# 8.Create a 2d array with 1 on border and 0 inside."
      ],
      "metadata": {
        "id": "Tpx0v9s2MFS0"
      }
    },
    {
      "cell_type": "code",
      "source": [
        "import numpy as np\n",
        "array = np.ones((5,5))\n",
        "array[1:-1,1:-1] = 0\n",
        "print(array)"
      ],
      "metadata": {
        "colab": {
          "base_uri": "https://localhost:8080/"
        },
        "id": "4WkNx3xHMHQX",
        "outputId": "76f3e285-f673-49b3-e65e-adc8ee83aca0"
      },
      "execution_count": 10,
      "outputs": [
        {
          "output_type": "stream",
          "name": "stdout",
          "text": [
            "[[1. 1. 1. 1. 1.]\n",
            " [1. 0. 0. 0. 1.]\n",
            " [1. 0. 0. 0. 1.]\n",
            " [1. 0. 0. 0. 1.]\n",
            " [1. 1. 1. 1. 1.]]\n"
          ]
        }
      ]
    },
    {
      "cell_type": "markdown",
      "source": [
        "# 9.Create a 8X8 matrix and fill it with a checkerboard pattern"
      ],
      "metadata": {
        "id": "fusfH_HFMKR9"
      }
    },
    {
      "cell_type": "code",
      "source": [
        "import numpy as np\n",
        "array = np.zeros((8,8))\n",
        "array[1::2,::2] = 1\n",
        "array[::2,1::2] = 1\n",
        "print(array)"
      ],
      "metadata": {
        "colab": {
          "base_uri": "https://localhost:8080/"
        },
        "id": "scHoRFD7MMGG",
        "outputId": "cf15578e-0095-48ef-ea81-dd39b39b700f"
      },
      "execution_count": 11,
      "outputs": [
        {
          "output_type": "stream",
          "name": "stdout",
          "text": [
            "[[0. 1. 0. 1. 0. 1. 0. 1.]\n",
            " [1. 0. 1. 0. 1. 0. 1. 0.]\n",
            " [0. 1. 0. 1. 0. 1. 0. 1.]\n",
            " [1. 0. 1. 0. 1. 0. 1. 0.]\n",
            " [0. 1. 0. 1. 0. 1. 0. 1.]\n",
            " [1. 0. 1. 0. 1. 0. 1. 0.]\n",
            " [0. 1. 0. 1. 0. 1. 0. 1.]\n",
            " [1. 0. 1. 0. 1. 0. 1. 0.]]\n"
          ]
        }
      ]
    },
    {
      "cell_type": "markdown",
      "source": [
        "#1.Add the two array."
      ],
      "metadata": {
        "id": "uWlvbeszMQqw"
      }
    },
    {
      "cell_type": "code",
      "source": [
        "import numpy as np\n",
        "array1 = np.array([[1,2,3],[4,5,6]])\n",
        "array2 = np.array([[7,8,9],[10,11,12]])\n",
        "sum = array1 + array2\n",
        "print(sum)"
      ],
      "metadata": {
        "colab": {
          "base_uri": "https://localhost:8080/"
        },
        "id": "GvFWFj_QMS0U",
        "outputId": "40c9663f-0d21-42c9-ec79-07a46f517062"
      },
      "execution_count": 12,
      "outputs": [
        {
          "output_type": "stream",
          "name": "stdout",
          "text": [
            "[[ 8 10 12]\n",
            " [14 16 18]]\n"
          ]
        }
      ]
    },
    {
      "cell_type": "markdown",
      "source": [
        "#2.Subtract the two array."
      ],
      "metadata": {
        "id": "HvbyRz90MVjg"
      }
    },
    {
      "cell_type": "code",
      "source": [
        "import numpy as np\n",
        "array1 = np.array([[4,5,6],[7,8,9]])\n",
        "array2 = np.array([[10,11,12],[13,14,15]])\n",
        "difference = array1 - array2\n",
        "print(difference)"
      ],
      "metadata": {
        "colab": {
          "base_uri": "https://localhost:8080/"
        },
        "id": "-nSbEchkMZmF",
        "outputId": "05b5369d-8be9-4193-fcdc-6e4b0a7a6dd8"
      },
      "execution_count": 13,
      "outputs": [
        {
          "output_type": "stream",
          "name": "stdout",
          "text": [
            "[[-6 -6 -6]\n",
            " [-6 -6 -6]]\n"
          ]
        }
      ]
    },
    {
      "cell_type": "markdown",
      "source": [
        "#3. Multiply the array with any integers of your choice."
      ],
      "metadata": {
        "id": "QLTw4NsAMdLa"
      }
    },
    {
      "cell_type": "code",
      "source": [
        "import numpy as np\n",
        "array = np.array([[1,2,3],[4,5,6]])\n",
        "product = array * 2\n",
        "print(product)"
      ],
      "metadata": {
        "colab": {
          "base_uri": "https://localhost:8080/"
        },
        "id": "8SL0P32oMfDj",
        "outputId": "d95da769-68e9-4cb8-f669-7cc6a714a8d1"
      },
      "execution_count": 14,
      "outputs": [
        {
          "output_type": "stream",
          "name": "stdout",
          "text": [
            "[[ 2  4  6]\n",
            " [ 8 10 12]]\n"
          ]
        }
      ]
    },
    {
      "cell_type": "markdown",
      "source": [
        "#4. Find the square of each element of the array."
      ],
      "metadata": {
        "id": "4VT5fJF8MiHe"
      }
    },
    {
      "cell_type": "code",
      "source": [
        "import numpy as np\n",
        "array = np.array([[4,5,6],[7,8,9]])\n",
        "square = array ** 2\n",
        "print(square)"
      ],
      "metadata": {
        "colab": {
          "base_uri": "https://localhost:8080/"
        },
        "id": "f_lNKk81Mj_0",
        "outputId": "1b6e2fce-d892-4c65-9b74-78e0284d62a4"
      },
      "execution_count": 15,
      "outputs": [
        {
          "output_type": "stream",
          "name": "stdout",
          "text": [
            "[[16 25 36]\n",
            " [49 64 81]]\n"
          ]
        }
      ]
    },
    {
      "cell_type": "markdown",
      "source": [
        "# 5. Find the dot product between: v(and)w ; x(and)v ; x(and)y."
      ],
      "metadata": {
        "id": "iMXrpsinMoDO"
      }
    },
    {
      "cell_type": "code",
      "source": [
        "import numpy as np\n",
        "x = np.array([[1,2],[3,5]])\n",
        "y = np.array([[5,6],[7,8]])\n",
        "v = np.array([9, 10])  # Redefine v\n",
        "w = np.array([11, 12])  # Redefine w\n",
        "dot_v_w = np.dot(v, w)\n",
        "print(\"Dot product of v and w:\\n\", dot_v_w)\n",
        "dot_x_v = np.dot(x, v)\n",
        "print(\"Dot product of x and v:\\n\", dot_x_v)"
      ],
      "metadata": {
        "colab": {
          "base_uri": "https://localhost:8080/"
        },
        "id": "6p4brd-TMpzs",
        "outputId": "cf245ab1-761d-4b53-deb1-d0d0bfa3c219"
      },
      "execution_count": 16,
      "outputs": [
        {
          "output_type": "stream",
          "name": "stdout",
          "text": [
            "Dot product of v and w:\n",
            " 219\n",
            "Dot product of x and v:\n",
            " [29 77]\n"
          ]
        }
      ]
    },
    {
      "cell_type": "markdown",
      "source": [
        "# 6 .Concatenate x(and)y along row and Concatenate v(and)w along column.\n",
        "# {Hint:try np.concatenate() or np.vstack() functions."
      ],
      "metadata": {
        "id": "VwYHHomPM9W3"
      }
    },
    {
      "cell_type": "code",
      "source": [
        "import numpy as np\n",
        "concat_xy_row = np.concatenate((x, y), axis=0)\n",
        "print(\"Concatenate x and y along rows:\\n\", concat_xy_row)\n",
        "concat_xy_col = np.concatenate((x, y), axis=1)\n",
        "print(\"Concatenate x and y along columns:\\n\", concat_xy_col)"
      ],
      "metadata": {
        "colab": {
          "base_uri": "https://localhost:8080/"
        },
        "id": "VUBD_XSsNACw",
        "outputId": "1f03cdb9-3d52-4e0d-d673-7e33bf7c5580"
      },
      "execution_count": 17,
      "outputs": [
        {
          "output_type": "stream",
          "name": "stdout",
          "text": [
            "Concatenate x and y along rows:\n",
            " [[1 2]\n",
            " [3 5]\n",
            " [5 6]\n",
            " [7 8]]\n",
            "Concatenate x and y along columns:\n",
            " [[1 2 5 6]\n",
            " [3 5 7 8]]\n"
          ]
        }
      ]
    },
    {
      "cell_type": "markdown",
      "source": [
        "# 7. Concatenate x(and)v; if you get an error, observe and explain why did you get the error?"
      ],
      "metadata": {
        "id": "Ru2yRD5XNEB8"
      }
    },
    {
      "cell_type": "code",
      "source": [
        "import numpy as np\n",
        "try:\n",
        "    concat_x_v = np.concatenate((x, v), axis=0)\n",
        "except ValueError as e:\n",
        "    print(\"Error while concatenating x and v:\", e)"
      ],
      "metadata": {
        "colab": {
          "base_uri": "https://localhost:8080/"
        },
        "id": "IOztG6Z5NGIw",
        "outputId": "4b11c4b2-b850-4a4f-9ae7-ca67b0c0f83b"
      },
      "execution_count": 18,
      "outputs": [
        {
          "output_type": "stream",
          "name": "stdout",
          "text": [
            "Error while concatenating x and v: all the input arrays must have same number of dimensions, but the array at index 0 has 2 dimension(s) and the array at index 1 has 1 dimension(s)\n"
          ]
        }
      ]
    },
    {
      "cell_type": "markdown",
      "source": [
        "A = np.array([[3,4],[7,8]]) and B = np.array([[5,3],[2,1]]);\n",
        "# Prove following with Numpy:\n",
        "# 1. Prove A.A−1 = I."
      ],
      "metadata": {
        "id": "uUEzBTm3NKCz"
      }
    },
    {
      "cell_type": "code",
      "source": [
        "import numpy as np\n",
        "A = np.array([[3, 4], [7, 8]])\n",
        "A_inv = np.linalg.inv(A)\n",
        "identity_matrix = np.dot(A, A_inv)\n",
        "print(\"A * A_inv =\\n\", identity_matrix)\n",
        "A = np.array([[3, 4], [7, 8]])\n",
        "A_inv = np.linalg.inv(A)\n",
        "identity_matrix = np.dot(A, A_inv)\n",
        "print(\"A * A_inv =\\n\", identity_matrix)"
      ],
      "metadata": {
        "colab": {
          "base_uri": "https://localhost:8080/"
        },
        "id": "vk8fmzU0NMY5",
        "outputId": "8f732e78-90a9-437b-f12d-3ef3372459ce"
      },
      "execution_count": 19,
      "outputs": [
        {
          "output_type": "stream",
          "name": "stdout",
          "text": [
            "A * A_inv =\n",
            " [[1.00000000e+00 0.00000000e+00]\n",
            " [1.77635684e-15 1.00000000e+00]]\n",
            "A * A_inv =\n",
            " [[1.00000000e+00 0.00000000e+00]\n",
            " [1.77635684e-15 1.00000000e+00]]\n"
          ]
        }
      ]
    },
    {
      "cell_type": "markdown",
      "source": [
        "#2. Prove AB ̸= BA."
      ],
      "metadata": {
        "id": "x4RHhBsSNROx"
      }
    },
    {
      "cell_type": "code",
      "source": [
        "B = np.array([[5, 3], [2, 1]])\n",
        "AB = np.dot(A, B)\n",
        "BA = np.dot(B, A)\n",
        "print(\"AB =\\n\", AB)\n",
        "print(\"BA =\\n\", BA)\n",
        "print(\"Are AB and BA equal?\", np.array_equal(AB, BA))"
      ],
      "metadata": {
        "colab": {
          "base_uri": "https://localhost:8080/"
        },
        "id": "9UCvJHITNTHn",
        "outputId": "dec751d4-926d-4705-e0a1-3860134c6f88"
      },
      "execution_count": 20,
      "outputs": [
        {
          "output_type": "stream",
          "name": "stdout",
          "text": [
            "AB =\n",
            " [[23 13]\n",
            " [51 29]]\n",
            "BA =\n",
            " [[36 44]\n",
            " [13 16]]\n",
            "Are AB and BA equal? False\n"
          ]
        }
      ]
    },
    {
      "cell_type": "markdown",
      "source": [
        "#3. Prove (AB)T= BTAT"
      ],
      "metadata": {
        "id": "2TzahdjCNaWK"
      }
    },
    {
      "cell_type": "code",
      "source": [
        "A = np.array([[3, 4], [7, 8]])\n",
        "B = np.array([[5, 3], [2, 1]])\n",
        "\n",
        "AB = np.dot(A, B)\n",
        "AB_T = np.transpose(AB)\n",
        "\n",
        "BT_AT = np.dot(B.T, A.T)\n",
        "print(\"(AB)^T =\\n\", AB_T)\n",
        "print(\"B^T * A^T =\\n\", BT_AT)\n",
        "print(\"Are (AB)^T and B^T * A^T equal?\", np.array_equal(AB_T, BT_AT))"
      ],
      "metadata": {
        "colab": {
          "base_uri": "https://localhost:8080/"
        },
        "id": "FMkYA8C0NfYL",
        "outputId": "0c7ae4bd-e672-43de-8f43-4ffdefcb2e1c"
      },
      "execution_count": 21,
      "outputs": [
        {
          "output_type": "stream",
          "name": "stdout",
          "text": [
            "(AB)^T =\n",
            " [[23 51]\n",
            " [13 29]]\n",
            "B^T * A^T =\n",
            " [[23 51]\n",
            " [13 29]]\n",
            "Are (AB)^T and B^T * A^T equal? True\n"
          ]
        }
      ]
    }
  ]
}